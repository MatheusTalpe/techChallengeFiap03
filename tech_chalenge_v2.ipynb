{
 "cells": [
  {
   "cell_type": "markdown",
   "metadata": {},
   "source": [
    "# Imports de bibliotecas necessárias"
   ]
  },
  {
   "cell_type": "code",
   "execution_count": 1,
   "metadata": {},
   "outputs": [
    {
     "name": "stdout",
     "output_type": "stream",
     "text": [
      "WARNING:tensorflow:From c:\\Users\\mathe\\Dev\\tech03\\techChallengeFiap03\\.venv\\Lib\\site-packages\\tf_keras\\src\\losses.py:2976: The name tf.losses.sparse_softmax_cross_entropy is deprecated. Please use tf.compat.v1.losses.sparse_softmax_cross_entropy instead.\n",
      "\n"
     ]
    }
   ],
   "source": [
    "import json\n",
    "import pandas as pd\n",
    "import re\n",
    "import unicodedata\n",
    "from datasets import Dataset\n",
    "from transformers import  Trainer, TrainingArguments, BertTokenizer, BertForQuestionAnswering, pipeline, AutoTokenizer, AutoModelForQuestionAnswering, Trainer, TrainingArguments\n",
    "from sklearn.model_selection import train_test_split\n",
    "import torch"
   ]
  },
  {
   "cell_type": "markdown",
   "metadata": {},
   "source": [
    "# Carregamento e limpeza do arquivo"
   ]
  },
  {
   "cell_type": "code",
   "execution_count": 12,
   "metadata": {},
   "outputs": [
    {
     "name": "stdout",
     "output_type": "stream",
     "text": [
      "linhas antes da limpeza:2248619\n",
      "linhas após da limpeza:1366477\n"
     ]
    }
   ],
   "source": [
    "data = []\n",
    "\n",
    "# Carregar o arquivo JSON\n",
    "with open('trn.json', 'r') as f:\n",
    "    for line in f:\n",
    "        data.append(json.loads(line))\n",
    "\n",
    "# Converter para DataFrame\n",
    "df = pd.DataFrame(data)\n",
    "\n",
    "# Print da quantidade de linhas antes da limpeza do arquivo\n",
    "print(f\"linhas antes da limpeza:{len(df)}\")\n",
    "\n",
    "# Remove registros inválidos (nulos)\n",
    "df.dropna(subset=['title', 'content'], inplace=True)\n",
    "\n",
    "# Remove linhas duplicadas\n",
    "df.drop_duplicates(subset=['title', 'content'], inplace=True)\n",
    "\n",
    "# Utiliza clean_text para:\n",
    "# Remover caracteres especiais\n",
    "# Normaliza e remove caracteres não ASCII,  afim de facilitar processamento\n",
    "# Converte para lowercase e remove espaços em branco\n",
    "def clean_text(text):\n",
    "    if isinstance(text, str):  # Verificar se é uma string\n",
    "        text = re.sub(r'[^\\w\\s]', '', text)\n",
    "        text = unicodedata.normalize('NFKD', text).encode('ascii', 'ignore').decode('utf-8')\n",
    "        text = text.lower().strip()\n",
    "    return text\n",
    "\n",
    "df['title'] = df['title'].apply(clean_text)\n",
    "df['content'] = df['content'].apply(clean_text)\n",
    "\n",
    "# Remove registros com conteúdo vazio\n",
    "df = df[df['content'].str.strip() != '']\n",
    "df = df[df['title'].str.strip() != '']\n",
    "\n",
    "# Print da quantidade de linhas após da limpeza do arquivo\n",
    "print(f\"linhas após da limpeza:{len(df)}\")\n",
    "\n",
    "# Path to the output JSON file\n",
    "file_path = 'data_cleaned.json'\n",
    "\n",
    "# Grava o df como json para processamento\n",
    "df.to_json(file_path, orient=\"records\", lines=True, force_ascii=False)\n"
   ]
  },
  {
   "cell_type": "code",
   "execution_count": 2,
   "metadata": {},
   "outputs": [],
   "source": [
    "# Divide as informações de title e content em perguntas e respostas para treinar o modelo\n",
    "# Realiza a Tokenizacao\n",
    "# Retorna o dict que contem as questões e contextos tokenizados e as respectivas posicoes de inicio e fim \n",
    "def preprocess_function(examples):\n",
    "    questions = examples['title']  # Perguntas\n",
    "    contexts = examples['content']  # Respostas\n",
    "    \n",
    "    encodings = tokenizer(questions, contexts, truncation=True, padding=True, max_length=512)\n",
    "    \n",
    "    start_positions = []\n",
    "    end_positions = []\n",
    "\n",
    "    for i in range(len(examples['content'])):\n",
    "        response = examples['content'][i]\n",
    "        \n",
    "        start_idx = response.find(response)\n",
    "        end_idx = start_idx + len(response) - 1\n",
    "        \n",
    "        start_positions.append(start_idx)\n",
    "        end_positions.append(end_idx)\n",
    "    \n",
    "    encodings['start_positions'] = start_positions\n",
    "    encodings['end_positions'] = end_positions    \n",
    "    \n",
    "    return encodings\n"
   ]
  },
  {
   "cell_type": "code",
   "execution_count": 3,
   "metadata": {},
   "outputs": [
    {
     "name": "stderr",
     "output_type": "stream",
     "text": [
      "Some weights of the model checkpoint at bert-large-uncased-whole-word-masking-finetuned-squad were not used when initializing BertForQuestionAnswering: ['bert.pooler.dense.bias', 'bert.pooler.dense.weight']\n",
      "- This IS expected if you are initializing BertForQuestionAnswering from the checkpoint of a model trained on another task or with another architecture (e.g. initializing a BertForSequenceClassification model from a BertForPreTraining model).\n",
      "- This IS NOT expected if you are initializing BertForQuestionAnswering from the checkpoint of a model that you expect to be exactly identical (initializing a BertForSequenceClassification model from a BertForSequenceClassification model).\n"
     ]
    },
    {
     "data": {
      "application/vnd.jupyter.widget-view+json": {
       "model_id": "5785973eb41149c1919d0e81a0ddc862",
       "version_major": 2,
       "version_minor": 0
      },
      "text/plain": [
       "Map:   0%|          | 0/1000 [00:00<?, ? examples/s]"
      ]
     },
     "metadata": {},
     "output_type": "display_data"
    },
    {
     "data": {
      "application/vnd.jupyter.widget-view+json": {
       "model_id": "721c26933962438984876616f48224a2",
       "version_major": 2,
       "version_minor": 0
      },
      "text/plain": [
       "  0%|          | 0/452 [00:00<?, ?it/s]"
      ]
     },
     "metadata": {},
     "output_type": "display_data"
    },
    {
     "data": {
      "application/vnd.jupyter.widget-view+json": {
       "model_id": "40c34e99d6574e6281da1648bbf78106",
       "version_major": 2,
       "version_minor": 0
      },
      "text/plain": [
       "  0%|          | 0/13 [00:00<?, ?it/s]"
      ]
     },
     "metadata": {},
     "output_type": "display_data"
    },
    {
     "name": "stdout",
     "output_type": "stream",
     "text": [
      "{'eval_loss': 2.71016263961792, 'eval_runtime': 2.6001, 'eval_samples_per_second': 38.46, 'eval_steps_per_second': 5.0, 'epoch': 1.0}\n"
     ]
    },
    {
     "data": {
      "application/vnd.jupyter.widget-view+json": {
       "model_id": "3e6f583b722d453997ce733171c56d7a",
       "version_major": 2,
       "version_minor": 0
      },
      "text/plain": [
       "  0%|          | 0/13 [00:00<?, ?it/s]"
      ]
     },
     "metadata": {},
     "output_type": "display_data"
    },
    {
     "name": "stdout",
     "output_type": "stream",
     "text": [
      "{'eval_loss': 2.5320568084716797, 'eval_runtime': 2.6063, 'eval_samples_per_second': 38.369, 'eval_steps_per_second': 4.988, 'epoch': 2.0}\n"
     ]
    },
    {
     "data": {
      "application/vnd.jupyter.widget-view+json": {
       "model_id": "54099c9c359944dcbf759fb8e67b602c",
       "version_major": 2,
       "version_minor": 0
      },
      "text/plain": [
       "  0%|          | 0/13 [00:00<?, ?it/s]"
      ]
     },
     "metadata": {},
     "output_type": "display_data"
    },
    {
     "name": "stdout",
     "output_type": "stream",
     "text": [
      "{'eval_loss': 2.561081886291504, 'eval_runtime': 2.6174, 'eval_samples_per_second': 38.206, 'eval_steps_per_second': 4.967, 'epoch': 3.0}\n"
     ]
    },
    {
     "data": {
      "application/vnd.jupyter.widget-view+json": {
       "model_id": "4220b5aa21ac4b6494a5a6ca5a4143b9",
       "version_major": 2,
       "version_minor": 0
      },
      "text/plain": [
       "  0%|          | 0/13 [00:00<?, ?it/s]"
      ]
     },
     "metadata": {},
     "output_type": "display_data"
    },
    {
     "name": "stdout",
     "output_type": "stream",
     "text": [
      "{'eval_loss': 2.7695562839508057, 'eval_runtime': 2.6869, 'eval_samples_per_second': 37.218, 'eval_steps_per_second': 4.838, 'epoch': 4.0}\n",
      "{'train_runtime': 306.4324, 'train_samples_per_second': 11.748, 'train_steps_per_second': 1.475, 'train_loss': 2.23751344933974, 'epoch': 4.0}\n"
     ]
    },
    {
     "data": {
      "text/plain": [
       "('./results_v2/qa_fine_tuned_model\\\\tokenizer_config.json',\n",
       " './results_v2/qa_fine_tuned_model\\\\special_tokens_map.json',\n",
       " './results_v2/qa_fine_tuned_model\\\\vocab.txt',\n",
       " './results_v2/qa_fine_tuned_model\\\\added_tokens.json',\n",
       " './results_v2/qa_fine_tuned_model\\\\tokenizer.json')"
      ]
     },
     "execution_count": 3,
     "metadata": {},
     "output_type": "execute_result"
    }
   ],
   "source": [
    "from transformers import Trainer, TrainingArguments, AutoModelForQuestionAnswering, AutoTokenizer\n",
    "from datasets import Dataset\n",
    "import pandas as pd\n",
    "import torch\n",
    "\n",
    "# Carregar o modelo pré treinado \n",
    "# SQuAD (Stanford Question Answering Dataset) \n",
    "model_name = \"bert-large-uncased-whole-word-masking-finetuned-squad\"\n",
    "model = AutoModelForQuestionAnswering.from_pretrained(model_name)\n",
    "\n",
    "device = torch.device(\"cuda\" if torch.cuda.is_available() else \"cpu\")\n",
    "model = model.to(device)\n",
    "\n",
    "# Carregar o tokenizador\n",
    "tokenizer = AutoTokenizer.from_pretrained(model_name)\n",
    "\n",
    "# Converte o arquivo json para treinamento em dataframe\n",
    "df_to_train = pd.read_json('data_cleaned.json', orient='records', lines=True)\n",
    "\n",
    "# Seleciona os primeiros X registros para treinamento\n",
    "dataset = Dataset.from_pandas(df_to_train.head(1000))\n",
    "\n",
    "# Realiza a tokenizacao para cada entrada do dataset através da função preprocess_function\n",
    "tokenized_dataset = dataset.map(preprocess_function, batched=True)\n",
    "\n",
    "# Divide o dataset em treino e teste\n",
    "split_dataset = tokenized_dataset.train_test_split(test_size=0.1, seed=42)\n",
    "\n",
    "train_data = split_dataset['train']\n",
    "eval_data = split_dataset['test']\n",
    "\n",
    "# Define os parametros de treinamento:\n",
    "training_args = TrainingArguments(\n",
    "    output_dir='./results_v2',\n",
    "    eval_strategy='epoch', \n",
    "    learning_rate=3e-5,\n",
    "    per_device_train_batch_size=8, \n",
    "    num_train_epochs=4, \n",
    "    weight_decay=0.01,\n",
    ")\n",
    "\n",
    "# Inicializa o trainer\n",
    "trainer = Trainer(\n",
    "    model=model,\n",
    "    args=training_args,\n",
    "    train_dataset=train_data,\n",
    "    eval_dataset=eval_data\n",
    ")\n",
    "\n",
    "# Treinar o modelo\n",
    "trainer.train()\n",
    "\n",
    "# Salva o modelo treinado\n",
    "trainer.save_model(\"./results_v2/qa_fine_tuned_model\")\n",
    "\n",
    "\n",
    "tokenizer.save_pretrained(\"./results_v2/qa_fine_tuned_model\")\n"
   ]
  },
  {
   "cell_type": "markdown",
   "metadata": {},
   "source": [
    "# Execução modelos"
   ]
  },
  {
   "cell_type": "markdown",
   "metadata": {},
   "source": [
    "Execução do modelo BERT uncased, sem treinamento com arquivo especializado. "
   ]
  },
  {
   "cell_type": "code",
   "execution_count": 6,
   "metadata": {},
   "outputs": [
    {
     "name": "stderr",
     "output_type": "stream",
     "text": [
      "Some weights of BertForQuestionAnswering were not initialized from the model checkpoint at bert-base-uncased and are newly initialized: ['qa_outputs.bias', 'qa_outputs.weight']\n",
      "You should probably TRAIN this model on a down-stream task to be able to use it for predictions and inference.\n",
      "Device set to use cuda:0\n"
     ]
    },
    {
     "name": "stdout",
     "output_type": "stream",
     "text": [
      "Resposta: {'score': 0.011804047971963882, 'start': 28, 'end': 42, 'answer': 'tutu 12 inches'}\n"
     ]
    }
   ],
   "source": [
    "from transformers import BertForQuestionAnswering, BertTokenizer, pipeline\n",
    "\n",
    "\n",
    "model = BertForQuestionAnswering.from_pretrained(\"bert-base-uncased\")  # Caminho onde você salvou o modelo\n",
    "tokenizer = BertTokenizer.from_pretrained(\"bert-base-uncased\")  # Ou o tokenizer que você usou\n",
    "\n",
    "context = \"high quality 3 layer ballet tutu 12 inches in length\"\n",
    "question = \"girls ballet tutu neon pink\" \n",
    "\n",
    "question_answerer = pipeline(\"question-answering\" , model=model, tokenizer=tokenizer, device=0)\n",
    "\n",
    "answer  = question_answerer(question=question, context=context)\n",
    "\n",
    "print(f\"Resposta: {answer}\")"
   ]
  },
  {
   "cell_type": "markdown",
   "metadata": {},
   "source": [
    "Execução do modelo bert large (SQUAD - Stanford Question Answering Dataset)."
   ]
  },
  {
   "cell_type": "code",
   "execution_count": 7,
   "metadata": {},
   "outputs": [
    {
     "name": "stderr",
     "output_type": "stream",
     "text": [
      "Some weights of the model checkpoint at bert-large-uncased-whole-word-masking-finetuned-squad were not used when initializing BertForQuestionAnswering: ['bert.pooler.dense.bias', 'bert.pooler.dense.weight']\n",
      "- This IS expected if you are initializing BertForQuestionAnswering from the checkpoint of a model trained on another task or with another architecture (e.g. initializing a BertForSequenceClassification model from a BertForPreTraining model).\n",
      "- This IS NOT expected if you are initializing BertForQuestionAnswering from the checkpoint of a model that you expect to be exactly identical (initializing a BertForSequenceClassification model from a BertForSequenceClassification model).\n",
      "Device set to use cuda:0\n"
     ]
    },
    {
     "name": "stdout",
     "output_type": "stream",
     "text": [
      "Resposta: {'score': 0.1022646576166153, 'start': 0, 'end': 20, 'answer': 'high quality 3 layer'}\n"
     ]
    }
   ],
   "source": [
    "\n",
    "model = BertForQuestionAnswering.from_pretrained(\"bert-large-uncased-whole-word-masking-finetuned-squad\")  # Caminho onde você salvou o modelo\n",
    "tokenizer = BertTokenizer.from_pretrained(\"bert-large-uncased-whole-word-masking-finetuned-squad\")  # Ou o tokenizer que você usou\n",
    "\n",
    "context = \"high quality 3 layer ballet tutu 12 inches in length\"\n",
    "question = \"girls ballet tutu neon pink\" \n",
    "\n",
    "question_answerer = pipeline(\"question-answering\" , model=model, tokenizer=tokenizer, device=0)\n",
    "\n",
    "answer  = question_answerer(question=question, context=context)\n",
    "\n",
    "print(f\"Resposta: {answer}\")"
   ]
  },
  {
   "cell_type": "markdown",
   "metadata": {},
   "source": [
    "Execução do modelo BERT treinado com o arquivo utilizado no trabalho."
   ]
  },
  {
   "cell_type": "code",
   "execution_count": 4,
   "metadata": {},
   "outputs": [
    {
     "name": "stderr",
     "output_type": "stream",
     "text": [
      "Device set to use cuda:0\n"
     ]
    },
    {
     "name": "stdout",
     "output_type": "stream",
     "text": [
      "Resposta: {'score': 1.5885715356489527e-06, 'start': 0, 'end': 42, 'answer': 'high quality 3 layer ballet tutu 12 inches'}\n"
     ]
    }
   ],
   "source": [
    "from transformers import BertForQuestionAnswering, BertTokenizer\n",
    "import torch\n",
    "\n",
    "model = BertForQuestionAnswering.from_pretrained(\"./results_v2/qa_fine_tuned_model\")  # Caminho onde você salvou o modelo\n",
    "tokenizer = BertTokenizer.from_pretrained(\"./results_v2/qa_fine_tuned_model\")  # Ou o tokenizer que você usou\n",
    "\n",
    "context = \"high quality 3 layer ballet tutu 12 inches in length\"\n",
    "question = \"girls ballet tutu neon pink\" \n",
    "\n",
    "question_answerer = pipeline(\"question-answering\" , model=model, tokenizer=tokenizer, device=0)\n",
    "\n",
    "answer  = question_answerer(question=question, context=context)\n",
    "\n",
    "print(f\"Resposta: {answer}\")"
   ]
  }
 ],
 "metadata": {
  "kernelspec": {
   "display_name": "venv",
   "language": "python",
   "name": "venv"
  },
  "language_info": {
   "codemirror_mode": {
    "name": "ipython",
    "version": 3
   },
   "file_extension": ".py",
   "mimetype": "text/x-python",
   "name": "python",
   "nbconvert_exporter": "python",
   "pygments_lexer": "ipython3",
   "version": "3.12.8"
  }
 },
 "nbformat": 4,
 "nbformat_minor": 2
}
