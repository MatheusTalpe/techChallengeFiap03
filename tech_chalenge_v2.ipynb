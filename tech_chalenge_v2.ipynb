{
 "cells": [
  {
   "cell_type": "markdown",
   "metadata": {},
   "source": [
    "Carregando as bibliotecas"
   ]
  },
  {
   "cell_type": "code",
   "execution_count": null,
   "metadata": {},
   "outputs": [],
   "source": [
    "import json\n",
    "import pandas as pd\n",
    "import re\n",
    "import unicodedata\n",
    "from datasets import Dataset\n",
    "from transformers import  Trainer, TrainingArguments, BertTokenizer, BertForQuestionAnswering, pipeline, AutoTokenizer, AutoModelForQuestionAnswering, Trainer, TrainingArguments\n",
    "from sklearn.model_selection import train_test_split\n",
    "import torch\n",
    "\n",
    "data = []\n",
    "\n",
    "# Carregar o arquivo JSON\n",
    "with open('trn.json', 'r') as f:\n",
    "    for line in f:\n",
    "        data.append(json.loads(line))\n",
    "\n",
    "# Converter para DataFrame\n",
    "df = pd.DataFrame(data)\n",
    "\n",
    "# Exemplo de dados\n",
    "df.head()\n",
    "\n",
    "def clean_text(text):\n",
    "    if isinstance(text, str):  # Verificar se é uma string\n",
    "        text = re.sub(r'[^\\w\\s]', '', text)\n",
    "        text = unicodedata.normalize('NFKD', text).encode('ascii', 'ignore').decode('utf-8')\n",
    "        text = text.lower().strip()\n",
    "    return text\n",
    "\n",
    "print(f\"linhas antes da limpeza:{len(df)}\")\n",
    "\n",
    "df.dropna(subset=['title', 'content'], inplace=True)\n",
    "df.drop_duplicates(subset=['title', 'content'], inplace=True)\n",
    "df['title'] = df['title'].apply(clean_text)\n",
    "df['content'] = df['content'].apply(clean_text)\n",
    "df = df[df['content'].str.strip() != '']\n",
    "df = df[df['title'].str.strip() != '']\n",
    "\n",
    "print(f\"linhas após da limpeza:{len(df)}\")\n",
    "\n"
   ]
  },
  {
   "cell_type": "code",
   "execution_count": null,
   "metadata": {},
   "outputs": [],
   "source": [
    "def preprocess_function(examples):\n",
    "    questions = examples['title']  # Perguntas\n",
    "    contexts = examples['content']  # Respostas\n",
    "    \n",
    "    encodings = tokenizer(questions, contexts, truncation=True, padding=True, max_length=512)\n",
    "    \n",
    "    start_positions = []\n",
    "    end_positions = []\n",
    "\n",
    "    for i in range(len(examples['content'])):\n",
    "        response = examples['content'][i]\n",
    "        \n",
    "        start_idx = response.find(response)\n",
    "        end_idx = start_idx + len(response) - 1\n",
    "        \n",
    "  \n",
    "        if start_idx == -1: \n",
    "            start_idx = 0\n",
    "            end_idx = 0\n",
    "        \n",
    "        start_positions.append(start_idx)\n",
    "        end_positions.append(end_idx)\n",
    "    \n",
    "    encodings['start_positions'] = start_positions\n",
    "    encodings['end_positions'] = end_positions    \n",
    "    \n",
    "    return encodings\n"
   ]
  },
  {
   "cell_type": "code",
   "execution_count": null,
   "metadata": {},
   "outputs": [
    {
     "name": "stderr",
     "output_type": "stream",
     "text": [
      "Some weights of the model checkpoint at bert-large-uncased-whole-word-masking-finetuned-squad were not used when initializing BertForQuestionAnswering: ['bert.pooler.dense.bias', 'bert.pooler.dense.weight']\n",
      "- This IS expected if you are initializing BertForQuestionAnswering from the checkpoint of a model trained on another task or with another architecture (e.g. initializing a BertForSequenceClassification model from a BertForPreTraining model).\n",
      "- This IS NOT expected if you are initializing BertForQuestionAnswering from the checkpoint of a model that you expect to be exactly identical (initializing a BertForSequenceClassification model from a BertForSequenceClassification model).\n",
      "Map: 100%|██████████| 1000/1000 [00:00<00:00, 5194.26 examples/s]\n",
      "                                                \n",
      " 25%|██▌       | 57/228 [00:30<01:11,  2.41it/s]"
     ]
    },
    {
     "name": "stdout",
     "output_type": "stream",
     "text": [
      "{'eval_loss': 2.5493550300598145, 'eval_runtime': 1.0815, 'eval_samples_per_second': 92.466, 'eval_steps_per_second': 12.021, 'epoch': 1.0}\n"
     ]
    },
    {
     "name": "stderr",
     "output_type": "stream",
     "text": [
      "                                                 \n",
      " 50%|█████     | 114/228 [01:00<00:45,  2.52it/s]"
     ]
    },
    {
     "name": "stdout",
     "output_type": "stream",
     "text": [
      "{'eval_loss': 2.276130437850952, 'eval_runtime': 1.0435, 'eval_samples_per_second': 95.834, 'eval_steps_per_second': 12.458, 'epoch': 2.0}\n"
     ]
    },
    {
     "name": "stderr",
     "output_type": "stream",
     "text": [
      "                                                 \n",
      " 75%|███████▌  | 171/228 [01:30<00:23,  2.48it/s]"
     ]
    },
    {
     "name": "stdout",
     "output_type": "stream",
     "text": [
      "{'eval_loss': 2.354689836502075, 'eval_runtime': 1.0571, 'eval_samples_per_second': 94.595, 'eval_steps_per_second': 12.297, 'epoch': 3.0}\n"
     ]
    },
    {
     "name": "stderr",
     "output_type": "stream",
     "text": [
      "                                                 \n",
      "100%|██████████| 228/228 [02:06<00:00,  1.81it/s]\n"
     ]
    },
    {
     "name": "stdout",
     "output_type": "stream",
     "text": [
      "{'eval_loss': 2.5047550201416016, 'eval_runtime': 1.2864, 'eval_samples_per_second': 77.735, 'eval_steps_per_second': 10.106, 'epoch': 4.0}\n",
      "{'train_runtime': 126.2656, 'train_samples_per_second': 28.511, 'train_steps_per_second': 1.806, 'train_loss': 2.419877972519189, 'epoch': 4.0}\n"
     ]
    },
    {
     "data": {
      "text/plain": [
       "('./results_v2/qa_fine_tuned_model\\\\tokenizer_config.json',\n",
       " './results_v2/qa_fine_tuned_model\\\\special_tokens_map.json',\n",
       " './results_v2/qa_fine_tuned_model\\\\vocab.txt',\n",
       " './results_v2/qa_fine_tuned_model\\\\added_tokens.json',\n",
       " './results_v2/qa_fine_tuned_model\\\\tokenizer.json')"
      ]
     },
     "execution_count": 4,
     "metadata": {},
     "output_type": "execute_result"
    }
   ],
   "source": [
    "from transformers import Trainer, TrainingArguments, BertForQuestionAnswering, BertTokenizer\n",
    "\n",
    "# Carregar o modelo e tokenizer\n",
    "model_name = \"bert-large-uncased-whole-word-masking-finetuned-squad\"\n",
    "model = AutoModelForQuestionAnswering.from_pretrained(model_name)\n",
    "tokenizer = AutoTokenizer.from_pretrained(model_name)\n",
    "\n",
    "df_to_train = pd.read_json('data_cleaned.json', orient='records', lines=True)\n",
    "\n",
    "dataset = Dataset.from_pandas(df_to_train.head(1000))\n",
    "\n",
    "tokenized_dataset = dataset.map(preprocess_function, batched=True)\n",
    "\n",
    "split_dataset = tokenized_dataset.train_test_split(test_size=0.1, seed=42)\n",
    "\n",
    "train_data = split_dataset['train']\n",
    "eval_data = split_dataset['test']\n",
    "\n",
    "training_args = TrainingArguments(\n",
    "    output_dir='./results_v2',\n",
    "    eval_strategy='epoch', \n",
    "    learning_rate=3e-5,\n",
    "    per_device_train_batch_size=16, \n",
    "    num_train_epochs=4, \n",
    "    weight_decay=0.01,\n",
    ")\n",
    "\n",
    "trainer = Trainer(\n",
    "    model=model,\n",
    "    args=training_args,\n",
    "    train_dataset=train_data,\n",
    "    eval_dataset=eval_data\n",
    ")\n",
    "\n",
    "# # Treinar o modelo\n",
    "trainer.train()\n",
    "\n",
    "trainer.save_model(\"./results_v2/qa_fine_tuned_model\")\n",
    "\n",
    "tokenizer.save_pretrained(\"./results_v2/qa_fine_tuned_model\")\n"
   ]
  },
  {
   "cell_type": "code",
   "execution_count": null,
   "metadata": {},
   "outputs": [
    {
     "name": "stderr",
     "output_type": "stream",
     "text": [
      "Some weights of BertForQuestionAnswering were not initialized from the model checkpoint at bert-base-uncased and are newly initialized: ['qa_outputs.bias', 'qa_outputs.weight']\n",
      "You should probably TRAIN this model on a down-stream task to be able to use it for predictions and inference.\n",
      "Device set to use cuda:0\n"
     ]
    },
    {
     "name": "stdout",
     "output_type": "stream",
     "text": [
      "Resposta: {'score': 0.012015399523079395, 'start': 33, 'end': 45, 'answer': '12 inches in'}\n"
     ]
    }
   ],
   "source": [
    "from transformers import BertForQuestionAnswering, BertTokenizer\n",
    "import torch\n",
    "\n",
    "model = BertForQuestionAnswering.from_pretrained(\"./results_v2/qa_fine_tuned_model\")  # Caminho onde você salvou o modelo\n",
    "tokenizer = BertTokenizer.from_pretrained(\"./results_v2/qa_fine_tuned_model\")  # Ou o tokenizer que você usou\n",
    "\n",
    "model = BertForQuestionAnswering.from_pretrained(\"bert-base-uncased\")  # Caminho onde você salvou o modelo\n",
    "tokenizer = BertTokenizer.from_pretrained(\"bert-base-uncased\")  # Ou o tokenizer que você usou\n",
    "\n",
    "model = BertForQuestionAnswering.from_pretrained(\"bert-large-uncased-whole-word-masking-finetuned-squad\")  # Caminho onde você salvou o modelo\n",
    "tokenizer = BertTokenizer.from_pretrained(\"bert-large-uncased-whole-word-masking-finetuned-squad\")  # Ou o tokenizer que você usou\n",
    "\n",
    "context = \"high quality 3 layer ballet tutu 12 inches in length\"\n",
    "question = \"girls ballet tutu neon pink\" \n",
    "\n",
    "question_answerer = pipeline(\"question-answering\" , model=model, tokenizer=tokenizer, device=0)\n",
    "\n",
    "answer  = question_answerer(question=question, context=context)\n",
    "\n",
    "print(f\"Resposta: {answer}\")"
   ]
  },
  {
   "cell_type": "markdown",
   "metadata": {},
   "source": []
  },
  {
   "cell_type": "markdown",
   "metadata": {},
   "source": []
  },
  {
   "cell_type": "markdown",
   "metadata": {},
   "source": [
    "Lendo o arquivo"
   ]
  }
 ],
 "metadata": {
  "kernelspec": {
   "display_name": "Python 3",
   "language": "python",
   "name": "python3"
  },
  "language_info": {
   "codemirror_mode": {
    "name": "ipython",
    "version": 3
   },
   "file_extension": ".py",
   "mimetype": "text/x-python",
   "name": "python",
   "nbconvert_exporter": "python",
   "pygments_lexer": "ipython3",
   "version": "3.10.8"
  }
 },
 "nbformat": 4,
 "nbformat_minor": 2
}
